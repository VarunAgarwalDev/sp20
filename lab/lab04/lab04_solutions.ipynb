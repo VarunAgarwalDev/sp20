{
 "cells": [
  {
   "cell_type": "markdown",
   "metadata": {},
   "source": [
    "# Lab 4: Gaussian Mixture Models\n",
    "Welcome to DS102 lab! \n",
    "\n",
    "The goals of this lab are to further investigate the Gaussian mixture model and implement the EM algorithm. \n",
    "\n",
    "The code you need to write is commented out with a message \"TODO: fill in\". There is additional documentation for each part as you go along.\n",
    "\n",
    "## Course Policies\n",
    "\n",
    "**Collaboration Policy**:\n",
    "Data science is a collaborative activity. While you may talk with others about the labs, we ask that you **write your solutions individually**. If you do discuss the assignments with others please **include their names** in the cell below.\n",
    "\n",
    "**Submission**: to submit this assignment, rerun the notebook from scratch (by selecting Kernel > Restart & Run all), and then print as a pdf (File > download as > pdf) and submit it to Gradescope (any other screenshotting or pdf printing method is acceptable as well).\n",
    "\n",
    "**This assignment should be completed and submitted before Thursday, February 20, 2020 at 11:59 PM.** "
   ]
  },
  {
   "cell_type": "markdown",
   "metadata": {},
   "source": [
    "# Collaborators\n",
    "Write names of your collaborators in this cell."
   ]
  },
  {
   "cell_type": "code",
   "execution_count": 1,
   "metadata": {},
   "outputs": [],
   "source": [
    "import matplotlib.pyplot as plt\n",
    "import numpy as np\n",
    "import pandas as pd\n",
    "import seaborn as sns\n",
    "%matplotlib inline"
   ]
  },
  {
   "cell_type": "markdown",
   "metadata": {},
   "source": [
    "## Read in Data\n",
    "We begin by reading in a comma seperated file of heights similar to the data we used in lecture. The dataframe contains information about heights (in centimeters) and sex."
   ]
  },
  {
   "cell_type": "code",
   "execution_count": 2,
   "metadata": {},
   "outputs": [],
   "source": [
    "# Read in the csv of sex and heights.\n",
    "dataframe = pd.read_csv(\"heights.csv\")\n",
    "\n",
    "# Save all heights in a numpy array.\n",
    "all_heights = dataframe[\"Height\"].to_numpy()\n",
    "\n",
    "# Split the heights by sex.\n",
    "is_male = (dataframe[\"Sex\"] == \"Male\")\n",
    "male_heights = all_heights[is_male]\n",
    "female_heights = all_heights[is_male == False]"
   ]
  },
  {
   "cell_type": "markdown",
   "metadata": {},
   "source": [
    "## 1) Statistics With Known Categories\n",
    "First let's assume we know about the sex of the person associated with each height. Let's see what the two empirical height distributions look like first."
   ]
  },
  {
   "cell_type": "code",
   "execution_count": 3,
   "metadata": {},
   "outputs": [
    {
     "data": {
      "text/plain": [
       "Text(0, 0.5, 'Number of People')"
      ]
     },
     "execution_count": 3,
     "metadata": {},
     "output_type": "execute_result"
    },
    {
     "data": {
      "image/png": "[encoded data removed]",
      "text/plain": [
       "<Figure size 432x288 with 1 Axes>"
      ]
     },
     "metadata": {
      "needs_background": "light"
     },
     "output_type": "display_data"
    }
   ],
   "source": [
    "# Plot a histogram of female and male heights.\n",
    "sns.distplot(female_heights, kde=False)\n",
    "sns.distplot(male_heights, kde=False)\n",
    "plt.xlabel(\"Height (cm)\") # TODO: REMOVE THIS\n",
    "plt.ylabel(\"Number of People\") # TODO: REMOVE THIS"
   ]
  },
  {
   "cell_type": "markdown",
   "metadata": {},
   "source": [
    "The plot seems to indicate that heights are normally distributed both for males and females which is in line with what we would expect. Now let's try to see what the mean $\\left(\\mu_0\\right)$ and standard deviation $\\left(\\sigma_m\\right)$ associated with male heights is, similarly we can find the mean $\\left(\\mu_f\\right)$ and standard deviation $\\left(\\sigma_f\\right)$ associated with female heights. We also want to get the proportion of males $\\left(\\pi_m\\right)$ and females $\\left(\\pi_f\\right)$ in the dataset."
   ]
  },
  {
   "cell_type": "code",
   "execution_count": 4,
   "metadata": {},
   "outputs": [
    {
     "name": "stdout",
     "output_type": "stream",
     "text": [
      "---Male Statistics---\n",
      "pi_m=0.4444, mu_m=175.37, sigma_m=7.29\n",
      "---Female Statistics---\n",
      "pi_f=0.5556, mu_f=161.82, sigma_f=6.85\n"
     ]
    }
   ],
   "source": [
    "# Find the mean of male heights and the standard deviation of male heights.\n",
    "mu_m = np.mean(male_heights) # TODO: remove this\n",
    "sigma_m = np.std(male_heights)\n",
    "\n",
    "# Find the mean of female heights and the standard deviation of female heights.\n",
    "mu_f = np.mean(female_heights) # TODO: remove this\n",
    "sigma_f = np.std(female_heights)\n",
    "\n",
    "# Find the number of males and females.\n",
    "num_females = female_heights.shape[0]\n",
    "num_males = male_heights.shape[0]\n",
    "num_people = all_heights.shape[0]\n",
    "pi_m = num_males / num_people # TODO: remove this\n",
    "pi_f = num_females / num_people # TODO: remove this\n",
    "\n",
    "# Print all the statistics.\n",
    "print(\"---Male Statistics---\")\n",
    "print(\"pi_m={:.4f}, mu_m={:.2f}, sigma_m={:.2f}\".format(pi_m, mu_m, sigma_m))\n",
    "print(\"---Female Statistics---\")\n",
    "print(\"pi_f={:.4f}, mu_f={:.2f}, sigma_f={:.2f}\".format(pi_f, mu_f, sigma_f))"
   ]
  },
  {
   "cell_type": "markdown",
   "metadata": {},
   "source": [
    "## 2) Statistics With Unknown Categories\n",
    "Now let's assume we don't know the sex of the person associated with each height. It still seems reasonable to assume that heights are normally distributed. Let's begin by finding the mean $\\left(\\mu_a\\right)$ and standard deviations $\\left(\\sigma_a\\right)$ across all heights."
   ]
  },
  {
   "cell_type": "code",
   "execution_count": 5,
   "metadata": {},
   "outputs": [
    {
     "name": "stdout",
     "output_type": "stream",
     "text": [
      "---All Statistics---\n",
      "mu_a=167.84, sigma_a=9.75\n"
     ]
    }
   ],
   "source": [
    "# Find the mean and the standard deviation of all heights.\n",
    "mu_a = np.mean(all_heights) # TODO: remove this\n",
    "sigma_a = np.std(all_heights) # TODO: remove this\n",
    "\n",
    "# Print the statistics across all heights.\n",
    "print(\"---All Statistics---\")\n",
    "print(\"mu_a={:.2f}, sigma_a={:.2f}\".format(mu_a, sigma_a))"
   ]
  },
  {
   "cell_type": "markdown",
   "metadata": {},
   "source": [
    "Now let's try to plot the histogram of all heights and compare it to a histogram of data that has actually been generated from the distribution $\\mathcal{N}(\\mu_a, \\sigma_a)$."
   ]
  },
  {
   "cell_type": "code",
   "execution_count": 6,
   "metadata": {},
   "outputs": [
    {
     "data": {
      "text/plain": [
       "<matplotlib.legend.Legend at 0x1a25912c88>"
      ]
     },
     "execution_count": 6,
     "metadata": {},
     "output_type": "execute_result"
    },
    {
     "data": {
      "image/png": "[encoded data removed]",
      "text/plain": [
       "<Figure size 432x288 with 1 Axes>"
      ]
     },
     "metadata": {
      "needs_background": "light"
     },
     "output_type": "display_data"
    }
   ],
   "source": [
    "# Create random_state so any random operation always returns the same result.\n",
    "random_state = np.random.RandomState(0)\n",
    "\n",
    "# Generate some normally distributed random data with\n",
    "# mean mu_a and standard deviation sigma_a.\n",
    "num_people = all_heights.shape[0]\n",
    "generated_heights = random_state.randn(num_people) * sigma_a + mu_a\n",
    "\n",
    "# Plot the generated data.\n",
    "sns.distplot(generated_heights, kde=False, label=\"Generated Data\") # TODO: Remove this\n",
    "# Plot the real heights.\n",
    "sns.distplot(all_heights, kde=False, label=\"Real Data\") # TODO: Remove this\n",
    "plt.xlabel(\"Height (cm)\")\n",
    "plt.ylabel(\"Number of people\")\n",
    "# Add the legend to the plot.\n",
    "plt.legend()"
   ]
  },
  {
   "cell_type": "markdown",
   "metadata": {},
   "source": [
    "The fit is relatively close but it seems we don't get the same peaking behavior around the mean. Let's see if we can do better. \n",
    "\n",
    "## 3) Gaussian Mixure Models (GMMs) and Expectation Maximization (EM)\n",
    "\n",
    "In this next section, we're going to assume the data comes from a Gaussian Mixture Model (GMM) consisting of two Gaussian distributions and we will use expectation maximization to approximate the Gaussian and proportion parameters. We will call the approximated proportion parameters $\\pi_0$ and $\\pi_1$, the Gaussian parameters associated with the first Gaussian $\\mu_0$ and $\\sigma_0$, and the Gaussian parameters associated with the second Gaussian $\\mu_1$ and $\\sigma_1$. Let's begin by implementing an expectation maximization function.\n",
    "\n",
    "### 3a) Complete the function below so we can get an estimate of $\\mu_0$ and $\\mu_1$ in the maximization part of the algorithm. \n",
    "Remember that our estimate of $\\mu_k$ (where $k$ is the $k^{th}$ distribution) is given by\n",
    "$$\\mu_k = \\frac{\\sum_{i=1}^n x_i z_k(i)}{\\sum_{i=1}^n z_k(i)}$$\n",
    "where $z_k(i)$ is the estimate of the probability that datapoint $i$ belongs to the distribution $k$, $\\mathbb{P}(K=k|x_i)$, that we obtained in the expectation part of the algorithm.\n",
    "\n",
    "Note: The version of the expectation maximization algorithm we present here assumes we don't know any of the $\\pi$s or $\\mu$s. As in the lecture we assume we magically know the $\\sigma$s. If you're interested in the derivation of the version where we don't know sigma either you can look at [this link](https://stephens999.github.io/fiveMinuteStats/intro_to_em.html#mle_of_gaussian_mixture_model) but the high level idea remains the same. Furthermore we've specialized the function for just a mixture of two Gaussian but this can be generalized to $K$ Gaussians for any value of $K$."
   ]
  },
  {
   "cell_type": "code",
   "execution_count": 7,
   "metadata": {},
   "outputs": [],
   "source": [
    "def gmm_expectation_maximization(data, pi_0, mu_0, pi_1, mu_1, num_steps):\n",
    "    \"\"\" Perform expectation maximization assuming a Gaussian mixture model consisting of two Gaussians.\n",
    "    \n",
    "    Parameters\n",
    "    ----------\n",
    "    data : numpy array of shape n\n",
    "        The matrix of datapoints we've observed.\n",
    "    pi_0 : float\n",
    "        Our initial estimate of pi_0.\n",
    "    mu_0 : float\n",
    "        Our initial estimate of mu_0.\n",
    "    pi_1 : float\n",
    "        Our initial estimate of pi_1.\n",
    "    mu_1 : float\n",
    "        Our initial estimate of mu_1.\n",
    "    num_steps : int\n",
    "        The number of times to run the expectation maximization.\n",
    "    \"\"\"\n",
    "    for step in range(num_steps):\n",
    "        # First run the expectation step.\n",
    "        gaussian_prob_0 = (np.exp(-(data - mu_0) ** 2 / (2 * sigma_0)) /\n",
    "                           (np.sqrt(2 * np.pi) * sigma_0))\n",
    "        gaussian_prob_1 = (np.exp(-(data - mu_1) ** 2 / (2 * sigma_1)) /\n",
    "                           (np.sqrt(2 * np.pi) * sigma_1))\n",
    "        normalizing_factor = pi_0 * gaussian_prob_0 + pi_1 * gaussian_prob_1\n",
    "        # We can consider z_k to be the vector of estimated probabilities that each\n",
    "        # datapoint belongs to the distribution k. In other words the ith index is an\n",
    "        # estimate of P(K=k|x_i).\n",
    "        z_0 = pi_0 * gaussian_prob_0 / normalizing_factor\n",
    "        z_1 = pi_1 * gaussian_prob_1 / normalizing_factor\n",
    "        \n",
    "        # Now run the maximization step.\n",
    "        # N_k is the estimated number of points assigned to the distribution k.\n",
    "        N_0 = np.sum(z_0)\n",
    "        N_1 = np.sum(z_1)\n",
    "        pi_0 = N_0 / data.shape[0]\n",
    "        pi_1 = N_1 / data.shape[0]\n",
    "        mu_0 = np.sum(data * z_0) / N_0\n",
    "        mu_1 = np.sum(data * z_1) / N_1\n",
    "        \n",
    "    return pi_0, mu_0, sigma_0, pi_1, mu_1, sigma_1"
   ]
  },
  {
   "cell_type": "markdown",
   "metadata": {},
   "source": [
    "Now that we've defined our expectation maximization function let's actually run it on our data. We'll want reasonable original estimates for our estimated parameters. As a very rough initial estimate let's pick:\n",
    "* $\\pi_0 = \\pi_1 = 0.5$ since we have no reason to believe one of the Gaussians will be sampled more often than the other. Furthermore if one of the $\\pi_k$ values was much larger than the other we'd expect to have our single Gaussian estimate above more closely match the generated data since it would be dominated by the Gaussian with the larger value of $\\pi_k$.\n",
    "* $\\mu_0 = 150, \\mu_1 = 185$ since it's reasonable for us to assume one distribution is has a larger mean than the other\n",
    "* $\\sigma_0 = 6.848, \\sigma_1 = 7.295$ these are the true values of $sigma$ as stated above."
   ]
  },
  {
   "cell_type": "code",
   "execution_count": 8,
   "metadata": {},
   "outputs": [
    {
     "name": "stdout",
     "output_type": "stream",
     "text": [
      "---Distribution 0 Estimated Parameters---\n",
      "pi_0=0.5268, mu_0=160.26, sigma_0=6.85\n",
      "---Distribution 1 Estimated Parameters---\n",
      "pi_1=0.4732, mu_1=176.28, sigma_1=7.29\n"
     ]
    }
   ],
   "source": [
    "sigma_0 = 6.848\n",
    "sigma_1 = 7.295\n",
    "# TODO: remove this.\n",
    "pi_0, mu_0, sigma_0, pi_1, mu_1, sigma_1 = gmm_expectation_maximization(data=all_heights,\n",
    "                                                                        pi_0=0.5,\n",
    "                                                                        mu_0=150,\n",
    "                                                                        pi_1=0.5,\n",
    "                                                                        mu_1=185,\n",
    "                                                                        num_steps=100)\n",
    "# Print the estimated parameters for both distributions.\n",
    "print(\"---Distribution 0 Estimated Parameters---\")\n",
    "print(\"pi_0={:.4f}, mu_0={:.2f}, sigma_0={:.2f}\".format(pi_0, mu_0, sigma_0))\n",
    "print(\"---Distribution 1 Estimated Parameters---\")\n",
    "print(\"pi_1={:.4f}, mu_1={:.2f}, sigma_1={:.2f}\".format(pi_1, mu_1, sigma_1))"
   ]
  },
  {
   "cell_type": "markdown",
   "metadata": {},
   "source": [
    "Finally let's see how closely our real data matches data generated from data randomly generated from the GMM whose parameters we just estimated."
   ]
  },
  {
   "cell_type": "code",
   "execution_count": 9,
   "metadata": {},
   "outputs": [
    {
     "data": {
      "text/plain": [
       "<matplotlib.legend.Legend at 0x1a25aadb00>"
      ]
     },
     "execution_count": 9,
     "metadata": {},
     "output_type": "execute_result"
    },
    {
     "data": {
      "image/png": "[encoded data removed]",
      "text/plain": [
       "<Figure size 432x288 with 1 Axes>"
      ]
     },
     "metadata": {
      "needs_background": "light"
     },
     "output_type": "display_data"
    }
   ],
   "source": [
    "# Create random_state so any random operation always returns the same result.\n",
    "random_state = np.random.RandomState(0)\n",
    "\n",
    "# Generate some data using the GMM parameters we just estimated above.\n",
    "num_people = all_heights.shape[0]\n",
    "# First let's create an array of bernouilli samples with probability of success pi_1.\n",
    "dist_number = random_state.binomial(1, pi_1, size=num_people)\n",
    "# Now let's create two arrays of size n that hold data from the two Gaussian distributions\n",
    "# we estimated.\n",
    "dist_0_heights = random_state.randn(num_people) * sigma_0 + mu_0\n",
    "dist_1_heights = random_state.randn(num_people) * sigma_1 + mu_1\n",
    "# Now use the original array of bernouilli samples to subsample the two Gaussian arrays.\n",
    "generated_heights = np.zeros(num_people)\n",
    "generated_heights[dist_number == 0] = dist_0_heights[dist_number == 0]\n",
    "generated_heights[dist_number == 1] = dist_1_heights[dist_number == 1]\n",
    "\n",
    "# Plot the generated data.\n",
    "sns.distplot(generated_heights, kde=False, label=\"Generated Data\") # TODO: Remove this\n",
    "# Plot the real heights.\n",
    "sns.distplot(all_heights, kde=False, label=\"Real Data\") # TODO: Remove this\n",
    "plt.xlabel(\"Height (cm)\")\n",
    "plt.ylabel(\"Number of people\")\n",
    "# Add the legend to the plot.\n",
    "plt.legend()"
   ]
  },
  {
   "cell_type": "markdown",
   "metadata": {},
   "source": [
    "### 3b) Question:\n",
    "Our real data seems to more closely match the distribution of the generated data than before. Give an interpretation of the estimated GMM in the cell below. In other words what do $\\pi_0, \\mu_0, \\sigma_0, \\pi_1, \\mu_1, \\sigma_1$ correspond to?"
   ]
  },
  {
   "cell_type": "markdown",
   "metadata": {},
   "source": [
    "TODO: fill in your answer.\n",
    "\n",
    "Answer: $\\mu_0$ and $\\sigma_0$ are close to the parameters associated with females while $\\mu_1$ and $\\sigma_1$ are close to the parameters associated with males. $\\pi_0$ can be interpreted as the probability we observe a female while $\\pi_1$ can be interpreted as the probability we observe a male."
   ]
  }
 ],
 "metadata": {
  "kernelspec": {
   "display_name": "Python 3",
   "language": "python",
   "name": "python3"
  },
  "language_info": {
   "codemirror_mode": {
    "name": "ipython",
    "version": 3
   },
   "file_extension": ".py",
   "mimetype": "text/x-python",
   "name": "python",
   "nbconvert_exporter": "python",
   "pygments_lexer": "ipython3",
   "version": "3.7.3"
  }
 },
 "nbformat": 4,
 "nbformat_minor": 2
}
